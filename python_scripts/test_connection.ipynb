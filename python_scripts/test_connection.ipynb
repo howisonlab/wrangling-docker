{
 "cells": [
  {
   "cell_type": "code",
   "execution_count": 1,
   "metadata": {},
   "outputs": [],
   "source": [
    "import pymysql\n",
    "import pymysql.cursors"
   ]
  },
  {
   "cell_type": "code",
   "execution_count": 2,
   "metadata": {},
   "outputs": [],
   "source": [
    "connection = pymysql.connect(host=\"mariadb\", \n",
    "                             port=3306,\n",
    "                             user=\"root\",\n",
    "                             db=\"class_music_festival\",\n",
    "                             autocommit=True,\n",
    "                             cursorclass=pymysql.cursors.DictCursor)\n"
   ]
  },
  {
   "cell_type": "code",
   "execution_count": 2,
   "metadata": {},
   "outputs": [],
   "source": [
    "%load_ext sql\n",
    "pymysql.install_as_MySQLdb()"
   ]
  },
  {
   "cell_type": "code",
   "execution_count": 3,
   "metadata": {},
   "outputs": [
    {
     "data": {
      "text/plain": [
       "'Connected: root@class_music_festival'"
      ]
     },
     "execution_count": 3,
     "metadata": {},
     "output_type": "execute_result"
    }
   ],
   "source": [
    "%sql mysql://root@mariadb/class_music_festival"
   ]
  },
  {
   "cell_type": "code",
   "execution_count": 5,
   "metadata": {},
   "outputs": [
    {
     "name": "stdout",
     "output_type": "stream",
     "text": [
      " * mysql://root@mariadb/class_music_festival\n",
      "6 rows affected.\n"
     ]
    },
    {
     "data": {
      "text/html": [
       "<table>\n",
       "    <tr>\n",
       "        <th>id</th>\n",
       "        <th>start</th>\n",
       "        <th>end</th>\n",
       "        <th>venue_id</th>\n",
       "        <th>band_id</th>\n",
       "    </tr>\n",
       "    <tr>\n",
       "        <td>1</td>\n",
       "        <td>2011-09-17 12:30:00</td>\n",
       "        <td>2011-09-17 13:15:00</td>\n",
       "        <td>1</td>\n",
       "        <td>1</td>\n",
       "    </tr>\n",
       "    <tr>\n",
       "        <td>2</td>\n",
       "        <td>2011-09-17 14:00:00</td>\n",
       "        <td>2011-09-17 15:00:00</td>\n",
       "        <td>1</td>\n",
       "        <td>2</td>\n",
       "    </tr>\n",
       "    <tr>\n",
       "        <td>3</td>\n",
       "        <td>2011-09-17 16:00:00</td>\n",
       "        <td>2011-09-17 17:00:00</td>\n",
       "        <td>1</td>\n",
       "        <td>3</td>\n",
       "    </tr>\n",
       "    <tr>\n",
       "        <td>4</td>\n",
       "        <td>2011-09-17 18:00:00</td>\n",
       "        <td>2011-09-17 19:00:00</td>\n",
       "        <td>1</td>\n",
       "        <td>4</td>\n",
       "    </tr>\n",
       "    <tr>\n",
       "        <td>5</td>\n",
       "        <td>2011-09-17 20:00:00</td>\n",
       "        <td>2011-09-17 21:30:00</td>\n",
       "        <td>1</td>\n",
       "        <td>5</td>\n",
       "    </tr>\n",
       "    <tr>\n",
       "        <td>6</td>\n",
       "        <td>2011-09-17 11:45:00</td>\n",
       "        <td>2011-09-17 12:30:00</td>\n",
       "        <td>2</td>\n",
       "        <td>6</td>\n",
       "    </tr>\n",
       "</table>"
      ],
      "text/plain": [
       "[(1, datetime.datetime(2011, 9, 17, 12, 30), datetime.datetime(2011, 9, 17, 13, 15), 1, 1),\n",
       " (2, datetime.datetime(2011, 9, 17, 14, 0), datetime.datetime(2011, 9, 17, 15, 0), 1, 2),\n",
       " (3, datetime.datetime(2011, 9, 17, 16, 0), datetime.datetime(2011, 9, 17, 17, 0), 1, 3),\n",
       " (4, datetime.datetime(2011, 9, 17, 18, 0), datetime.datetime(2011, 9, 17, 19, 0), 1, 4),\n",
       " (5, datetime.datetime(2011, 9, 17, 20, 0), datetime.datetime(2011, 9, 17, 21, 30), 1, 5),\n",
       " (6, datetime.datetime(2011, 9, 17, 11, 45), datetime.datetime(2011, 9, 17, 12, 30), 2, 6)]"
      ]
     },
     "execution_count": 5,
     "metadata": {},
     "output_type": "execute_result"
    }
   ],
   "source": [
    "%%sql\n",
    "SELECT * FROM performances LIMIT 6"
   ]
  },
  {
   "cell_type": "code",
   "execution_count": null,
   "metadata": {},
   "outputs": [],
   "source": []
  }
 ],
 "metadata": {
  "kernelspec": {
   "display_name": "Python 3",
   "language": "python",
   "name": "python3"
  },
  "language_info": {
   "codemirror_mode": {
    "name": "ipython",
    "version": 3
   },
   "file_extension": ".py",
   "mimetype": "text/x-python",
   "name": "python",
   "nbconvert_exporter": "python",
   "pygments_lexer": "ipython3",
   "version": "3.6.8"
  }
 },
 "nbformat": 4,
 "nbformat_minor": 2
}
