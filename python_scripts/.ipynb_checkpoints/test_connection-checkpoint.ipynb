{
 "cells": [
  {
   "cell_type": "code",
   "execution_count": 1,
   "metadata": {},
   "outputs": [],
   "source": [
    "import pymysql\n",
    "import pymysql.cursors"
   ]
  },
  {
   "cell_type": "code",
   "execution_count": 2,
   "metadata": {},
   "outputs": [],
   "source": [
    "connection = pymysql.connect(host=\"mariadb\", \n",
    "                             port=3306,\n",
    "                             user=\"root\",\n",
    "                             db=\"class_music_festival\",\n",
    "                             autocommit=True,\n",
    "                             cursorclass=pymysql.cursors.DictCursor)\n"
   ]
  },
  {
   "cell_type": "code",
   "execution_count": 2,
   "metadata": {},
   "outputs": [],
   "source": [
    "%load_ext sql\n",
    "pymysql.install_as_MySQLdb()"
   ]
  },
  {
   "cell_type": "code",
   "execution_count": 3,
   "metadata": {},
   "outputs": [
    {
     "data": {
      "text/plain": [
       "'Connected: root@class_music_festival'"
      ]
     },
     "execution_count": 3,
     "metadata": {},
     "output_type": "execute_result"
    }
   ],
   "source": [
    "%sql mysql://root@mariadb/class_music_festival"
   ]
  },
  {
   "cell_type": "code",
   "execution_count": 4,
   "metadata": {},
   "outputs": [
    {
     "name": "stdout",
     "output_type": "stream",
     "text": [
      " * mysql://root@mariadb/class_music_festival\n",
      "9 rows affected.\n"
     ]
    },
    {
     "data": {
      "text/html": [
       "<table>\n",
       "    <tr>\n",
       "        <th>id</th>\n",
       "        <th>name</th>\n",
       "    </tr>\n",
       "    <tr>\n",
       "        <td>1361</td>\n",
       "        <td>A </td>\n",
       "    </tr>\n",
       "    <tr>\n",
       "        <td>7486</td>\n",
       "        <td>A Dehpewit </td>\n",
       "    </tr>\n",
       "    <tr>\n",
       "        <td>4175</td>\n",
       "        <td>A Deyzhdoax </td>\n",
       "    </tr>\n",
       "    <tr>\n",
       "        <td>2689</td>\n",
       "        <td>A Eawzeb </td>\n",
       "    </tr>\n",
       "    <tr>\n",
       "        <td>5470</td>\n",
       "        <td>A Hmpynvir </td>\n",
       "    </tr>\n",
       "    <tr>\n",
       "        <td>6269</td>\n",
       "        <td>A Nlynmuq </td>\n",
       "    </tr>\n",
       "    <tr>\n",
       "        <td>4235</td>\n",
       "        <td>A Nuhfat </td>\n",
       "    </tr>\n",
       "    <tr>\n",
       "        <td>2271</td>\n",
       "        <td>A Putteb </td>\n",
       "    </tr>\n",
       "    <tr>\n",
       "        <td>2077</td>\n",
       "        <td>Aabvalh Rucfivcstioprop </td>\n",
       "    </tr>\n",
       "</table>"
      ],
      "text/plain": [
       "[(1361, 'A '),\n",
       " (7486, 'A Dehpewit '),\n",
       " (4175, 'A Deyzhdoax '),\n",
       " (2689, 'A Eawzeb '),\n",
       " (5470, 'A Hmpynvir '),\n",
       " (6269, 'A Nlynmuq '),\n",
       " (4235, 'A Nuhfat '),\n",
       " (2271, 'A Putteb '),\n",
       " (2077, 'Aabvalh Rucfivcstioprop ')]"
      ]
     },
     "execution_count": 4,
     "metadata": {},
     "output_type": "execute_result"
    }
   ],
   "source": [
    "%%sql\n",
    "SELECT * FROM performances LIMIT 9"
   ]
  },
  {
   "cell_type": "code",
   "execution_count": null,
   "metadata": {},
   "outputs": [],
   "source": []
  }
 ],
 "metadata": {
  "kernelspec": {
   "display_name": "Python 3",
   "language": "python",
   "name": "python3"
  },
  "language_info": {
   "codemirror_mode": {
    "name": "ipython",
    "version": 3
   },
   "file_extension": ".py",
   "mimetype": "text/x-python",
   "name": "python",
   "nbconvert_exporter": "python",
   "pygments_lexer": "ipython3",
   "version": "3.6.8"
  }
 },
 "nbformat": 4,
 "nbformat_minor": 2
}
